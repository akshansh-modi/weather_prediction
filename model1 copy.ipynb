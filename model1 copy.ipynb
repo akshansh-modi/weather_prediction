{
 "cells": [
  {
   "cell_type": "markdown",
   "metadata": {},
   "source": [
    "# 0. Import Data"
   ]
  },
  {
   "cell_type": "code",
   "execution_count": 34,
   "metadata": {},
   "outputs": [
    {
     "name": "stdout",
     "output_type": "stream",
     "text": [
      "Defaulting to user installation because normal site-packages is not writeable\n",
      "Requirement already satisfied: pandas in c:\\programdata\\anaconda3\\lib\\site-packages (2.0.3)\n",
      "Requirement already satisfied: python-dateutil>=2.8.2 in c:\\programdata\\anaconda3\\lib\\site-packages (from pandas) (2.8.2)\n",
      "Requirement already satisfied: pytz>=2020.1 in c:\\programdata\\anaconda3\\lib\\site-packages (from pandas) (2023.3.post1)\n",
      "Requirement already satisfied: tzdata>=2022.1 in c:\\programdata\\anaconda3\\lib\\site-packages (from pandas) (2023.3)\n",
      "Requirement already satisfied: numpy>=1.21.0 in c:\\programdata\\anaconda3\\lib\\site-packages (from pandas) (1.24.3)\n",
      "Requirement already satisfied: six>=1.5 in c:\\programdata\\anaconda3\\lib\\site-packages (from python-dateutil>=2.8.2->pandas) (1.16.0)\n",
      "Note: you may need to restart the kernel to use updated packages.\n"
     ]
    }
   ],
   "source": [
    "pip install pandas"
   ]
  },
  {
   "cell_type": "code",
   "execution_count": 35,
   "metadata": {},
   "outputs": [],
   "source": [
    "\n",
    "\n",
    "import pandas as pd\n",
    "from sklearn.model_selection import train_test_split"
   ]
  },
  {
   "cell_type": "code",
   "execution_count": 36,
   "metadata": {},
   "outputs": [],
   "source": [
    "df = pd.read_csv(\"./seattle-weather.csv\")"
   ]
  },
  {
   "cell_type": "code",
   "execution_count": 37,
   "metadata": {},
   "outputs": [],
   "source": [
    "df = df[~df['weather'].isin(['drizzle', 'fog'])]\n",
    "\n",
    "weather_mapping = {'rain': 0,  'sun': 1 ,'snow': 2}\n",
    "df['weather'] = df['weather'].map(weather_mapping)\n"
   ]
  },
  {
   "cell_type": "code",
   "execution_count": 38,
   "metadata": {},
   "outputs": [],
   "source": [
    "df = df.drop(['date'], axis=1)"
   ]
  },
  {
   "cell_type": "code",
   "execution_count": 39,
   "metadata": {},
   "outputs": [],
   "source": [
    "X= df.drop(['weather'], axis=1)\n",
    "y= df['weather']\n"
   ]
  },
  {
   "cell_type": "code",
   "execution_count": null,
   "metadata": {},
   "outputs": [],
   "source": []
  },
  {
   "cell_type": "code",
   "execution_count": null,
   "metadata": {},
   "outputs": [],
   "source": [
    "\n"
   ]
  },
  {
   "cell_type": "code",
   "execution_count": null,
   "metadata": {},
   "outputs": [],
   "source": []
  },
  {
   "cell_type": "code",
   "execution_count": 40,
   "metadata": {},
   "outputs": [
    {
     "name": "stdout",
     "output_type": "stream",
     "text": [
      "Index(['precipitation', 'temp_max', 'temp_min', 'wind', 'weather'], dtype='object')\n"
     ]
    }
   ],
   "source": [
    "print(df.columns)"
   ]
  },
  {
   "cell_type": "code",
   "execution_count": null,
   "metadata": {},
   "outputs": [],
   "source": []
  },
  {
   "cell_type": "code",
   "execution_count": null,
   "metadata": {},
   "outputs": [],
   "source": []
  },
  {
   "cell_type": "code",
   "execution_count": 41,
   "metadata": {},
   "outputs": [
    {
     "data": {
      "text/html": [
       "<div>\n",
       "<style scoped>\n",
       "    .dataframe tbody tr th:only-of-type {\n",
       "        vertical-align: middle;\n",
       "    }\n",
       "\n",
       "    .dataframe tbody tr th {\n",
       "        vertical-align: top;\n",
       "    }\n",
       "\n",
       "    .dataframe thead th {\n",
       "        text-align: right;\n",
       "    }\n",
       "</style>\n",
       "<table border=\"1\" class=\"dataframe\">\n",
       "  <thead>\n",
       "    <tr style=\"text-align: right;\">\n",
       "      <th></th>\n",
       "      <th>precipitation</th>\n",
       "      <th>temp_max</th>\n",
       "      <th>temp_min</th>\n",
       "      <th>wind</th>\n",
       "    </tr>\n",
       "  </thead>\n",
       "  <tbody>\n",
       "    <tr>\n",
       "      <th>1</th>\n",
       "      <td>10.9</td>\n",
       "      <td>10.6</td>\n",
       "      <td>2.8</td>\n",
       "      <td>4.5</td>\n",
       "    </tr>\n",
       "    <tr>\n",
       "      <th>2</th>\n",
       "      <td>0.8</td>\n",
       "      <td>11.7</td>\n",
       "      <td>7.2</td>\n",
       "      <td>2.3</td>\n",
       "    </tr>\n",
       "    <tr>\n",
       "      <th>3</th>\n",
       "      <td>20.3</td>\n",
       "      <td>12.2</td>\n",
       "      <td>5.6</td>\n",
       "      <td>4.7</td>\n",
       "    </tr>\n",
       "    <tr>\n",
       "      <th>4</th>\n",
       "      <td>1.3</td>\n",
       "      <td>8.9</td>\n",
       "      <td>2.8</td>\n",
       "      <td>6.1</td>\n",
       "    </tr>\n",
       "    <tr>\n",
       "      <th>5</th>\n",
       "      <td>2.5</td>\n",
       "      <td>4.4</td>\n",
       "      <td>2.2</td>\n",
       "      <td>2.2</td>\n",
       "    </tr>\n",
       "    <tr>\n",
       "      <th>...</th>\n",
       "      <td>...</td>\n",
       "      <td>...</td>\n",
       "      <td>...</td>\n",
       "      <td>...</td>\n",
       "    </tr>\n",
       "    <tr>\n",
       "      <th>1455</th>\n",
       "      <td>0.0</td>\n",
       "      <td>4.4</td>\n",
       "      <td>0.0</td>\n",
       "      <td>2.5</td>\n",
       "    </tr>\n",
       "    <tr>\n",
       "      <th>1456</th>\n",
       "      <td>8.6</td>\n",
       "      <td>4.4</td>\n",
       "      <td>1.7</td>\n",
       "      <td>2.9</td>\n",
       "    </tr>\n",
       "    <tr>\n",
       "      <th>1457</th>\n",
       "      <td>1.5</td>\n",
       "      <td>5.0</td>\n",
       "      <td>1.7</td>\n",
       "      <td>1.3</td>\n",
       "    </tr>\n",
       "    <tr>\n",
       "      <th>1459</th>\n",
       "      <td>0.0</td>\n",
       "      <td>5.6</td>\n",
       "      <td>-1.0</td>\n",
       "      <td>3.4</td>\n",
       "    </tr>\n",
       "    <tr>\n",
       "      <th>1460</th>\n",
       "      <td>0.0</td>\n",
       "      <td>5.6</td>\n",
       "      <td>-2.1</td>\n",
       "      <td>3.5</td>\n",
       "    </tr>\n",
       "  </tbody>\n",
       "</table>\n",
       "<p>1307 rows × 4 columns</p>\n",
       "</div>"
      ],
      "text/plain": [
       "      precipitation  temp_max  temp_min  wind\n",
       "1              10.9      10.6       2.8   4.5\n",
       "2               0.8      11.7       7.2   2.3\n",
       "3              20.3      12.2       5.6   4.7\n",
       "4               1.3       8.9       2.8   6.1\n",
       "5               2.5       4.4       2.2   2.2\n",
       "...             ...       ...       ...   ...\n",
       "1455            0.0       4.4       0.0   2.5\n",
       "1456            8.6       4.4       1.7   2.9\n",
       "1457            1.5       5.0       1.7   1.3\n",
       "1459            0.0       5.6      -1.0   3.4\n",
       "1460            0.0       5.6      -2.1   3.5\n",
       "\n",
       "[1307 rows x 4 columns]"
      ]
     },
     "execution_count": 41,
     "metadata": {},
     "output_type": "execute_result"
    }
   ],
   "source": [
    "X\n"
   ]
  },
  {
   "cell_type": "code",
   "execution_count": null,
   "metadata": {},
   "outputs": [],
   "source": []
  },
  {
   "cell_type": "code",
   "execution_count": 43,
   "metadata": {},
   "outputs": [
    {
     "data": {
      "text/plain": [
       "weather\n",
       "0    641\n",
       "1    640\n",
       "2     26\n",
       "Name: count, dtype: int64"
      ]
     },
     "execution_count": 43,
     "metadata": {},
     "output_type": "execute_result"
    }
   ],
   "source": [
    "y.value_counts()"
   ]
  },
  {
   "cell_type": "code",
   "execution_count": 29,
   "metadata": {},
   "outputs": [],
   "source": [
    "# X = pd.get_dummies(df.drop(['Churn', 'Customer ID'], axis=1))\n",
    "# y = df['Churn'].apply(lambda x: 1 if x=='Yes' else 0)"
   ]
  },
  {
   "cell_type": "code",
   "execution_count": 44,
   "metadata": {},
   "outputs": [],
   "source": [
    "X_train, X_test, y_train, y_test = train_test_split(X, y, test_size=.2)"
   ]
  },
  {
   "cell_type": "code",
   "execution_count": 45,
   "metadata": {},
   "outputs": [
    {
     "data": {
      "text/plain": [
       "62      1\n",
       "1180    1\n",
       "1210    0\n",
       "852     1\n",
       "1055    0\n",
       "Name: weather, dtype: int64"
      ]
     },
     "execution_count": 45,
     "metadata": {},
     "output_type": "execute_result"
    }
   ],
   "source": [
    "y_train.head()"
   ]
  },
  {
   "cell_type": "markdown",
   "metadata": {},
   "source": [
    "# 1. Import Dependencies"
   ]
  },
  {
   "cell_type": "code",
   "execution_count": 46,
   "metadata": {},
   "outputs": [],
   "source": [
    "\n",
    "from tensorflow.keras.models import Sequential, load_model\n",
    "from tensorflow.keras.layers import Dense\n",
    "from sklearn.metrics import accuracy_score"
   ]
  },
  {
   "cell_type": "code",
   "execution_count": 48,
   "metadata": {},
   "outputs": [
    {
     "name": "stdout",
     "output_type": "stream",
     "text": [
      "Epoch 1/200\n",
      "27/27 [==============================] - 1s 7ms/step - loss: 1.3426 - accuracy: 0.5407 - val_loss: 0.5316 - val_accuracy: 0.8278\n",
      "Epoch 2/200\n",
      "27/27 [==============================] - 0s 3ms/step - loss: 0.4713 - accuracy: 0.8254 - val_loss: 0.4427 - val_accuracy: 0.8612\n",
      "Epoch 3/200\n",
      "27/27 [==============================] - 0s 3ms/step - loss: 0.4031 - accuracy: 0.8433 - val_loss: 0.3818 - val_accuracy: 0.8517\n",
      "Epoch 4/200\n",
      "27/27 [==============================] - 0s 3ms/step - loss: 0.3636 - accuracy: 0.8624 - val_loss: 0.3407 - val_accuracy: 0.8469\n",
      "Epoch 5/200\n",
      "27/27 [==============================] - 0s 2ms/step - loss: 0.3363 - accuracy: 0.8648 - val_loss: 0.3103 - val_accuracy: 0.8660\n",
      "Epoch 6/200\n",
      "27/27 [==============================] - 0s 2ms/step - loss: 0.3178 - accuracy: 0.8732 - val_loss: 0.2994 - val_accuracy: 0.8852\n",
      "Epoch 7/200\n",
      "27/27 [==============================] - 0s 2ms/step - loss: 0.3014 - accuracy: 0.8804 - val_loss: 0.2678 - val_accuracy: 0.8804\n",
      "Epoch 8/200\n",
      "27/27 [==============================] - 0s 2ms/step - loss: 0.2823 - accuracy: 0.8911 - val_loss: 0.2555 - val_accuracy: 0.8852\n",
      "Epoch 9/200\n",
      "27/27 [==============================] - 0s 3ms/step - loss: 0.2793 - accuracy: 0.8935 - val_loss: 0.2474 - val_accuracy: 0.9091\n",
      "Epoch 10/200\n",
      "27/27 [==============================] - 0s 3ms/step - loss: 0.2615 - accuracy: 0.9019 - val_loss: 0.2411 - val_accuracy: 0.9139\n",
      "Epoch 11/200\n",
      "27/27 [==============================] - 0s 3ms/step - loss: 0.2589 - accuracy: 0.9007 - val_loss: 0.2377 - val_accuracy: 0.9139\n",
      "Epoch 12/200\n",
      "27/27 [==============================] - 0s 3ms/step - loss: 0.2405 - accuracy: 0.9043 - val_loss: 0.2317 - val_accuracy: 0.9187\n",
      "Epoch 13/200\n",
      "27/27 [==============================] - 0s 3ms/step - loss: 0.2414 - accuracy: 0.9067 - val_loss: 0.2195 - val_accuracy: 0.9043\n",
      "Epoch 14/200\n",
      "27/27 [==============================] - 0s 4ms/step - loss: 0.2407 - accuracy: 0.9091 - val_loss: 0.2017 - val_accuracy: 0.9234\n",
      "Epoch 15/200\n",
      "27/27 [==============================] - 0s 3ms/step - loss: 0.2165 - accuracy: 0.9211 - val_loss: 0.2139 - val_accuracy: 0.9234\n",
      "Epoch 16/200\n",
      "27/27 [==============================] - 0s 3ms/step - loss: 0.2324 - accuracy: 0.9151 - val_loss: 0.2067 - val_accuracy: 0.9282\n",
      "Epoch 17/200\n",
      "27/27 [==============================] - 0s 2ms/step - loss: 0.2107 - accuracy: 0.9282 - val_loss: 0.1959 - val_accuracy: 0.9282\n",
      "Epoch 18/200\n",
      "27/27 [==============================] - 0s 2ms/step - loss: 0.2067 - accuracy: 0.9270 - val_loss: 0.1929 - val_accuracy: 0.9282\n",
      "Epoch 19/200\n",
      "27/27 [==============================] - 0s 2ms/step - loss: 0.2090 - accuracy: 0.9282 - val_loss: 0.1862 - val_accuracy: 0.9330\n",
      "Epoch 20/200\n",
      "27/27 [==============================] - 0s 3ms/step - loss: 0.1992 - accuracy: 0.9270 - val_loss: 0.2172 - val_accuracy: 0.9043\n",
      "Epoch 21/200\n",
      "27/27 [==============================] - 0s 2ms/step - loss: 0.2157 - accuracy: 0.9234 - val_loss: 0.2226 - val_accuracy: 0.9187\n",
      "Epoch 22/200\n",
      "27/27 [==============================] - 0s 2ms/step - loss: 0.1902 - accuracy: 0.9438 - val_loss: 0.1857 - val_accuracy: 0.9426\n",
      "Epoch 23/200\n",
      "27/27 [==============================] - 0s 2ms/step - loss: 0.1908 - accuracy: 0.9390 - val_loss: 0.2206 - val_accuracy: 0.9234\n",
      "Epoch 24/200\n",
      "27/27 [==============================] - 0s 2ms/step - loss: 0.1886 - accuracy: 0.9378 - val_loss: 0.1755 - val_accuracy: 0.9378\n",
      "Epoch 25/200\n",
      "27/27 [==============================] - 0s 2ms/step - loss: 0.1825 - accuracy: 0.9402 - val_loss: 0.1828 - val_accuracy: 0.9426\n",
      "Epoch 26/200\n",
      "27/27 [==============================] - 0s 2ms/step - loss: 0.1803 - accuracy: 0.9438 - val_loss: 0.1696 - val_accuracy: 0.9378\n",
      "Epoch 27/200\n",
      "27/27 [==============================] - 0s 2ms/step - loss: 0.1791 - accuracy: 0.9474 - val_loss: 0.2114 - val_accuracy: 0.9330\n",
      "Epoch 28/200\n",
      "27/27 [==============================] - 0s 2ms/step - loss: 0.1804 - accuracy: 0.9474 - val_loss: 0.1690 - val_accuracy: 0.9378\n",
      "Epoch 29/200\n",
      "27/27 [==============================] - 0s 2ms/step - loss: 0.1681 - accuracy: 0.9486 - val_loss: 0.1872 - val_accuracy: 0.9474\n",
      "Epoch 30/200\n",
      "27/27 [==============================] - 0s 2ms/step - loss: 0.1758 - accuracy: 0.9474 - val_loss: 0.1764 - val_accuracy: 0.9474\n",
      "Epoch 31/200\n",
      "27/27 [==============================] - 0s 2ms/step - loss: 0.1896 - accuracy: 0.9318 - val_loss: 0.1685 - val_accuracy: 0.9426\n",
      "Epoch 32/200\n",
      "27/27 [==============================] - 0s 3ms/step - loss: 0.1648 - accuracy: 0.9498 - val_loss: 0.1699 - val_accuracy: 0.9426\n",
      "Epoch 33/200\n",
      "27/27 [==============================] - 0s 2ms/step - loss: 0.1643 - accuracy: 0.9510 - val_loss: 0.1869 - val_accuracy: 0.9426\n",
      "Epoch 34/200\n",
      "27/27 [==============================] - 0s 3ms/step - loss: 0.1692 - accuracy: 0.9533 - val_loss: 0.1630 - val_accuracy: 0.9378\n",
      "Epoch 35/200\n",
      "27/27 [==============================] - 0s 2ms/step - loss: 0.1660 - accuracy: 0.9522 - val_loss: 0.1646 - val_accuracy: 0.9378\n",
      "Epoch 36/200\n",
      "27/27 [==============================] - 0s 2ms/step - loss: 0.1759 - accuracy: 0.9450 - val_loss: 0.2212 - val_accuracy: 0.9234\n",
      "Epoch 37/200\n",
      "27/27 [==============================] - 0s 2ms/step - loss: 0.1600 - accuracy: 0.9498 - val_loss: 0.1713 - val_accuracy: 0.9426\n",
      "Epoch 38/200\n",
      "27/27 [==============================] - 0s 2ms/step - loss: 0.1632 - accuracy: 0.9498 - val_loss: 0.1720 - val_accuracy: 0.9426\n",
      "Epoch 39/200\n",
      "27/27 [==============================] - 0s 2ms/step - loss: 0.1546 - accuracy: 0.9533 - val_loss: 0.1867 - val_accuracy: 0.9474\n",
      "Epoch 40/200\n",
      "27/27 [==============================] - 0s 2ms/step - loss: 0.1780 - accuracy: 0.9438 - val_loss: 0.1638 - val_accuracy: 0.9378\n",
      "Epoch 41/200\n",
      "27/27 [==============================] - 0s 2ms/step - loss: 0.1627 - accuracy: 0.9545 - val_loss: 0.1677 - val_accuracy: 0.9474\n",
      "Epoch 42/200\n",
      "27/27 [==============================] - 0s 2ms/step - loss: 0.1586 - accuracy: 0.9545 - val_loss: 0.1651 - val_accuracy: 0.9426\n",
      "Epoch 43/200\n",
      "27/27 [==============================] - 0s 2ms/step - loss: 0.1514 - accuracy: 0.9557 - val_loss: 0.2465 - val_accuracy: 0.9282\n",
      "Epoch 44/200\n",
      "27/27 [==============================] - 0s 2ms/step - loss: 0.1550 - accuracy: 0.9533 - val_loss: 0.1649 - val_accuracy: 0.9426\n",
      "Epoch 45/200\n",
      "27/27 [==============================] - 0s 2ms/step - loss: 0.1624 - accuracy: 0.9569 - val_loss: 0.1839 - val_accuracy: 0.9426\n",
      "Epoch 46/200\n",
      "27/27 [==============================] - 0s 4ms/step - loss: 0.1540 - accuracy: 0.9533 - val_loss: 0.1599 - val_accuracy: 0.9474\n",
      "Epoch 47/200\n",
      "27/27 [==============================] - 0s 2ms/step - loss: 0.1508 - accuracy: 0.9581 - val_loss: 0.1587 - val_accuracy: 0.9426\n",
      "Epoch 48/200\n",
      "27/27 [==============================] - 0s 2ms/step - loss: 0.1477 - accuracy: 0.9569 - val_loss: 0.1668 - val_accuracy: 0.9426\n",
      "Epoch 49/200\n",
      "27/27 [==============================] - 0s 2ms/step - loss: 0.1529 - accuracy: 0.9581 - val_loss: 0.1613 - val_accuracy: 0.9426\n",
      "Epoch 50/200\n",
      "27/27 [==============================] - 0s 2ms/step - loss: 0.1438 - accuracy: 0.9593 - val_loss: 0.1664 - val_accuracy: 0.9426\n",
      "Epoch 51/200\n",
      "27/27 [==============================] - 0s 2ms/step - loss: 0.1515 - accuracy: 0.9533 - val_loss: 0.1788 - val_accuracy: 0.9378\n",
      "Epoch 52/200\n",
      "27/27 [==============================] - 0s 2ms/step - loss: 0.1563 - accuracy: 0.9498 - val_loss: 0.1661 - val_accuracy: 0.9426\n",
      "Epoch 53/200\n",
      "27/27 [==============================] - 0s 2ms/step - loss: 0.1425 - accuracy: 0.9569 - val_loss: 0.1738 - val_accuracy: 0.9474\n",
      "Epoch 54/200\n",
      "27/27 [==============================] - 0s 2ms/step - loss: 0.1496 - accuracy: 0.9545 - val_loss: 0.1601 - val_accuracy: 0.9426\n",
      "Epoch 55/200\n",
      "27/27 [==============================] - 0s 2ms/step - loss: 0.1501 - accuracy: 0.9569 - val_loss: 0.1725 - val_accuracy: 0.9426\n",
      "Epoch 56/200\n",
      "27/27 [==============================] - 0s 2ms/step - loss: 0.1507 - accuracy: 0.9569 - val_loss: 0.1530 - val_accuracy: 0.9426\n",
      "Epoch 57/200\n",
      "27/27 [==============================] - 0s 2ms/step - loss: 0.1477 - accuracy: 0.9557 - val_loss: 0.1554 - val_accuracy: 0.9426\n",
      "Epoch 58/200\n",
      "27/27 [==============================] - 0s 2ms/step - loss: 0.1438 - accuracy: 0.9569 - val_loss: 0.1563 - val_accuracy: 0.9474\n",
      "Epoch 59/200\n",
      "27/27 [==============================] - 0s 3ms/step - loss: 0.1455 - accuracy: 0.9593 - val_loss: 0.1809 - val_accuracy: 0.9474\n",
      "Epoch 60/200\n",
      "27/27 [==============================] - 0s 3ms/step - loss: 0.1414 - accuracy: 0.9593 - val_loss: 0.1587 - val_accuracy: 0.9426\n",
      "Epoch 61/200\n",
      "27/27 [==============================] - 0s 2ms/step - loss: 0.1463 - accuracy: 0.9581 - val_loss: 0.1674 - val_accuracy: 0.9474\n",
      "Epoch 62/200\n",
      "27/27 [==============================] - 0s 2ms/step - loss: 0.1372 - accuracy: 0.9605 - val_loss: 0.1833 - val_accuracy: 0.9474\n",
      "Epoch 63/200\n",
      "27/27 [==============================] - 0s 3ms/step - loss: 0.1558 - accuracy: 0.9581 - val_loss: 0.1643 - val_accuracy: 0.9426\n",
      "Epoch 64/200\n",
      "27/27 [==============================] - 0s 3ms/step - loss: 0.1494 - accuracy: 0.9569 - val_loss: 0.1684 - val_accuracy: 0.9426\n",
      "Epoch 65/200\n",
      "27/27 [==============================] - 0s 2ms/step - loss: 0.1390 - accuracy: 0.9593 - val_loss: 0.1659 - val_accuracy: 0.9426\n",
      "Epoch 66/200\n",
      "27/27 [==============================] - 0s 2ms/step - loss: 0.1539 - accuracy: 0.9545 - val_loss: 0.1693 - val_accuracy: 0.9426\n",
      "Epoch 67/200\n",
      "27/27 [==============================] - 0s 2ms/step - loss: 0.1455 - accuracy: 0.9569 - val_loss: 0.1578 - val_accuracy: 0.9474\n",
      "Epoch 68/200\n",
      "27/27 [==============================] - 0s 2ms/step - loss: 0.1391 - accuracy: 0.9593 - val_loss: 0.1877 - val_accuracy: 0.9426\n",
      "Epoch 69/200\n",
      "27/27 [==============================] - 0s 2ms/step - loss: 0.1449 - accuracy: 0.9569 - val_loss: 0.1550 - val_accuracy: 0.9474\n",
      "Epoch 70/200\n",
      "27/27 [==============================] - 0s 2ms/step - loss: 0.1601 - accuracy: 0.9545 - val_loss: 0.2001 - val_accuracy: 0.9474\n",
      "Epoch 71/200\n",
      "27/27 [==============================] - 0s 5ms/step - loss: 0.1570 - accuracy: 0.9545 - val_loss: 0.1550 - val_accuracy: 0.9474\n",
      "Epoch 72/200\n",
      "27/27 [==============================] - 0s 2ms/step - loss: 0.1346 - accuracy: 0.9593 - val_loss: 0.1597 - val_accuracy: 0.9426\n",
      "Epoch 73/200\n",
      "27/27 [==============================] - 0s 2ms/step - loss: 0.1358 - accuracy: 0.9557 - val_loss: 0.1650 - val_accuracy: 0.9474\n",
      "Epoch 74/200\n",
      "27/27 [==============================] - 0s 2ms/step - loss: 0.1376 - accuracy: 0.9569 - val_loss: 0.1583 - val_accuracy: 0.9426\n",
      "Epoch 75/200\n",
      "27/27 [==============================] - 0s 2ms/step - loss: 0.1423 - accuracy: 0.9593 - val_loss: 0.1786 - val_accuracy: 0.9474\n",
      "Epoch 76/200\n",
      "27/27 [==============================] - 0s 2ms/step - loss: 0.1478 - accuracy: 0.9557 - val_loss: 0.1936 - val_accuracy: 0.9474\n",
      "Epoch 77/200\n",
      "27/27 [==============================] - 0s 2ms/step - loss: 0.1564 - accuracy: 0.9545 - val_loss: 0.1809 - val_accuracy: 0.9426\n",
      "Epoch 78/200\n",
      "27/27 [==============================] - 0s 2ms/step - loss: 0.1365 - accuracy: 0.9593 - val_loss: 0.1702 - val_accuracy: 0.9474\n",
      "Epoch 79/200\n",
      "27/27 [==============================] - 0s 3ms/step - loss: 0.1385 - accuracy: 0.9593 - val_loss: 0.1582 - val_accuracy: 0.9474\n",
      "Epoch 80/200\n",
      "27/27 [==============================] - 0s 2ms/step - loss: 0.1388 - accuracy: 0.9593 - val_loss: 0.1576 - val_accuracy: 0.9426\n",
      "Epoch 81/200\n",
      "27/27 [==============================] - 0s 2ms/step - loss: 0.1357 - accuracy: 0.9581 - val_loss: 0.1615 - val_accuracy: 0.9474\n",
      "Epoch 82/200\n",
      "27/27 [==============================] - 0s 2ms/step - loss: 0.1343 - accuracy: 0.9533 - val_loss: 0.1606 - val_accuracy: 0.9474\n",
      "Epoch 83/200\n",
      "27/27 [==============================] - 0s 3ms/step - loss: 0.1389 - accuracy: 0.9593 - val_loss: 0.1625 - val_accuracy: 0.9426\n",
      "Epoch 84/200\n",
      "27/27 [==============================] - 0s 2ms/step - loss: 0.1378 - accuracy: 0.9605 - val_loss: 0.1621 - val_accuracy: 0.9426\n",
      "Epoch 85/200\n",
      "27/27 [==============================] - 0s 2ms/step - loss: 0.1321 - accuracy: 0.9593 - val_loss: 0.1657 - val_accuracy: 0.9474\n",
      "Epoch 86/200\n",
      "27/27 [==============================] - 0s 2ms/step - loss: 0.1419 - accuracy: 0.9593 - val_loss: 0.1577 - val_accuracy: 0.9522\n",
      "Epoch 87/200\n",
      "27/27 [==============================] - 0s 2ms/step - loss: 0.1373 - accuracy: 0.9605 - val_loss: 0.1603 - val_accuracy: 0.9474\n",
      "Epoch 88/200\n",
      "27/27 [==============================] - 0s 2ms/step - loss: 0.1370 - accuracy: 0.9581 - val_loss: 0.1627 - val_accuracy: 0.9426\n",
      "Epoch 89/200\n",
      "27/27 [==============================] - 0s 2ms/step - loss: 0.1313 - accuracy: 0.9629 - val_loss: 0.1723 - val_accuracy: 0.9474\n",
      "Epoch 90/200\n",
      "27/27 [==============================] - 0s 2ms/step - loss: 0.1431 - accuracy: 0.9569 - val_loss: 0.1598 - val_accuracy: 0.9474\n",
      "Epoch 91/200\n",
      "27/27 [==============================] - 0s 2ms/step - loss: 0.1382 - accuracy: 0.9593 - val_loss: 0.1696 - val_accuracy: 0.9474\n",
      "Epoch 92/200\n",
      "27/27 [==============================] - 0s 2ms/step - loss: 0.1355 - accuracy: 0.9581 - val_loss: 0.1643 - val_accuracy: 0.9474\n",
      "Epoch 93/200\n",
      "27/27 [==============================] - 0s 2ms/step - loss: 0.1440 - accuracy: 0.9593 - val_loss: 0.1617 - val_accuracy: 0.9426\n",
      "Epoch 94/200\n",
      "27/27 [==============================] - 0s 2ms/step - loss: 0.1350 - accuracy: 0.9605 - val_loss: 0.1573 - val_accuracy: 0.9474\n",
      "Epoch 95/200\n",
      "27/27 [==============================] - 0s 2ms/step - loss: 0.1332 - accuracy: 0.9605 - val_loss: 0.1778 - val_accuracy: 0.9474\n",
      "Epoch 96/200\n",
      "27/27 [==============================] - 0s 3ms/step - loss: 0.1387 - accuracy: 0.9593 - val_loss: 0.1697 - val_accuracy: 0.9426\n",
      "Epoch 97/200\n",
      "27/27 [==============================] - 0s 5ms/step - loss: 0.1513 - accuracy: 0.9510 - val_loss: 0.1996 - val_accuracy: 0.9474\n",
      "Epoch 98/200\n",
      "27/27 [==============================] - 0s 2ms/step - loss: 0.1471 - accuracy: 0.9569 - val_loss: 0.1762 - val_accuracy: 0.9426\n",
      "Epoch 99/200\n",
      "27/27 [==============================] - 0s 2ms/step - loss: 0.1402 - accuracy: 0.9593 - val_loss: 0.1696 - val_accuracy: 0.9378\n",
      "Epoch 100/200\n",
      "27/27 [==============================] - 0s 2ms/step - loss: 0.1330 - accuracy: 0.9593 - val_loss: 0.1656 - val_accuracy: 0.9474\n",
      "Epoch 101/200\n",
      "27/27 [==============================] - 0s 2ms/step - loss: 0.1320 - accuracy: 0.9593 - val_loss: 0.1625 - val_accuracy: 0.9474\n",
      "Epoch 102/200\n",
      "27/27 [==============================] - 0s 2ms/step - loss: 0.1529 - accuracy: 0.9581 - val_loss: 0.1647 - val_accuracy: 0.9474\n",
      "Epoch 103/200\n",
      "27/27 [==============================] - 0s 2ms/step - loss: 0.1538 - accuracy: 0.9545 - val_loss: 0.1706 - val_accuracy: 0.9474\n",
      "Epoch 104/200\n",
      "27/27 [==============================] - 0s 2ms/step - loss: 0.1366 - accuracy: 0.9581 - val_loss: 0.1671 - val_accuracy: 0.9426\n",
      "Epoch 105/200\n",
      "27/27 [==============================] - 0s 2ms/step - loss: 0.1497 - accuracy: 0.9605 - val_loss: 0.1772 - val_accuracy: 0.9474\n",
      "Epoch 106/200\n",
      "27/27 [==============================] - 0s 2ms/step - loss: 0.1505 - accuracy: 0.9569 - val_loss: 0.1577 - val_accuracy: 0.9474\n",
      "Epoch 107/200\n",
      "27/27 [==============================] - 0s 2ms/step - loss: 0.1473 - accuracy: 0.9486 - val_loss: 0.1489 - val_accuracy: 0.9474\n",
      "Epoch 108/200\n",
      "27/27 [==============================] - 0s 2ms/step - loss: 0.1484 - accuracy: 0.9593 - val_loss: 0.1577 - val_accuracy: 0.9474\n",
      "Epoch 109/200\n",
      "27/27 [==============================] - 0s 3ms/step - loss: 0.1424 - accuracy: 0.9593 - val_loss: 0.1734 - val_accuracy: 0.9474\n",
      "Epoch 110/200\n",
      "27/27 [==============================] - 0s 3ms/step - loss: 0.1366 - accuracy: 0.9581 - val_loss: 0.1520 - val_accuracy: 0.9474\n",
      "Epoch 111/200\n",
      "27/27 [==============================] - 0s 3ms/step - loss: 0.1490 - accuracy: 0.9557 - val_loss: 0.1419 - val_accuracy: 0.9522\n",
      "Epoch 112/200\n",
      "27/27 [==============================] - 0s 2ms/step - loss: 0.1327 - accuracy: 0.9581 - val_loss: 0.1421 - val_accuracy: 0.9474\n",
      "Epoch 113/200\n",
      "27/27 [==============================] - 0s 2ms/step - loss: 0.1292 - accuracy: 0.9605 - val_loss: 0.1638 - val_accuracy: 0.9474\n",
      "Epoch 114/200\n",
      "27/27 [==============================] - 0s 2ms/step - loss: 0.1393 - accuracy: 0.9593 - val_loss: 0.1563 - val_accuracy: 0.9474\n",
      "Epoch 115/200\n",
      "27/27 [==============================] - 0s 3ms/step - loss: 0.1385 - accuracy: 0.9593 - val_loss: 0.1527 - val_accuracy: 0.9426\n",
      "Epoch 116/200\n",
      "27/27 [==============================] - 0s 2ms/step - loss: 0.1321 - accuracy: 0.9605 - val_loss: 0.1495 - val_accuracy: 0.9474\n",
      "Epoch 117/200\n",
      "27/27 [==============================] - 0s 3ms/step - loss: 0.1325 - accuracy: 0.9605 - val_loss: 0.1794 - val_accuracy: 0.9474\n",
      "Epoch 118/200\n",
      "27/27 [==============================] - 0s 2ms/step - loss: 0.1853 - accuracy: 0.9414 - val_loss: 0.1657 - val_accuracy: 0.9474\n",
      "Epoch 119/200\n",
      "27/27 [==============================] - 0s 2ms/step - loss: 0.1485 - accuracy: 0.9581 - val_loss: 0.1512 - val_accuracy: 0.9474\n",
      "Epoch 120/200\n",
      "27/27 [==============================] - 0s 2ms/step - loss: 0.1364 - accuracy: 0.9593 - val_loss: 0.1537 - val_accuracy: 0.9474\n",
      "Epoch 121/200\n",
      "27/27 [==============================] - 0s 2ms/step - loss: 0.1319 - accuracy: 0.9593 - val_loss: 0.1573 - val_accuracy: 0.9474\n",
      "Epoch 122/200\n",
      "27/27 [==============================] - 0s 3ms/step - loss: 0.1269 - accuracy: 0.9605 - val_loss: 0.1504 - val_accuracy: 0.9569\n",
      "Epoch 123/200\n",
      "27/27 [==============================] - 0s 3ms/step - loss: 0.1351 - accuracy: 0.9593 - val_loss: 0.1705 - val_accuracy: 0.9474\n",
      "Epoch 124/200\n",
      "27/27 [==============================] - 0s 2ms/step - loss: 0.1289 - accuracy: 0.9617 - val_loss: 0.1644 - val_accuracy: 0.9474\n",
      "Epoch 125/200\n",
      "27/27 [==============================] - 0s 4ms/step - loss: 0.1340 - accuracy: 0.9581 - val_loss: 0.1606 - val_accuracy: 0.9474\n",
      "Epoch 126/200\n",
      "27/27 [==============================] - 0s 2ms/step - loss: 0.1392 - accuracy: 0.9581 - val_loss: 0.1536 - val_accuracy: 0.9474\n",
      "Epoch 127/200\n",
      "27/27 [==============================] - 0s 2ms/step - loss: 0.1320 - accuracy: 0.9617 - val_loss: 0.1653 - val_accuracy: 0.9474\n",
      "Epoch 128/200\n",
      "27/27 [==============================] - 0s 2ms/step - loss: 0.1288 - accuracy: 0.9605 - val_loss: 0.1831 - val_accuracy: 0.9474\n",
      "Epoch 129/200\n",
      "27/27 [==============================] - 0s 2ms/step - loss: 0.1410 - accuracy: 0.9605 - val_loss: 0.1613 - val_accuracy: 0.9474\n",
      "Epoch 130/200\n",
      "27/27 [==============================] - 0s 2ms/step - loss: 0.1330 - accuracy: 0.9605 - val_loss: 0.1644 - val_accuracy: 0.9474\n",
      "Epoch 131/200\n",
      "27/27 [==============================] - 0s 2ms/step - loss: 0.1283 - accuracy: 0.9605 - val_loss: 0.1697 - val_accuracy: 0.9474\n",
      "Epoch 132/200\n",
      "27/27 [==============================] - 0s 2ms/step - loss: 0.1301 - accuracy: 0.9593 - val_loss: 0.1637 - val_accuracy: 0.9474\n",
      "Epoch 133/200\n",
      "27/27 [==============================] - 0s 2ms/step - loss: 0.1344 - accuracy: 0.9593 - val_loss: 0.1651 - val_accuracy: 0.9474\n",
      "Epoch 134/200\n",
      "27/27 [==============================] - 0s 3ms/step - loss: 0.1283 - accuracy: 0.9605 - val_loss: 0.1750 - val_accuracy: 0.9474\n",
      "Epoch 135/200\n",
      "27/27 [==============================] - 0s 2ms/step - loss: 0.1374 - accuracy: 0.9605 - val_loss: 0.1664 - val_accuracy: 0.9474\n",
      "Epoch 136/200\n",
      "27/27 [==============================] - 0s 2ms/step - loss: 0.1272 - accuracy: 0.9617 - val_loss: 0.1645 - val_accuracy: 0.9474\n",
      "Epoch 137/200\n",
      "27/27 [==============================] - 0s 2ms/step - loss: 0.1419 - accuracy: 0.9581 - val_loss: 0.1705 - val_accuracy: 0.9474\n",
      "Epoch 138/200\n",
      "27/27 [==============================] - 0s 2ms/step - loss: 0.1407 - accuracy: 0.9617 - val_loss: 0.1762 - val_accuracy: 0.9474\n",
      "Epoch 139/200\n",
      "27/27 [==============================] - 0s 3ms/step - loss: 0.1308 - accuracy: 0.9617 - val_loss: 0.1551 - val_accuracy: 0.9474\n",
      "Epoch 140/200\n",
      "27/27 [==============================] - 0s 3ms/step - loss: 0.1369 - accuracy: 0.9557 - val_loss: 0.1732 - val_accuracy: 0.9474\n",
      "Epoch 141/200\n",
      "27/27 [==============================] - 0s 2ms/step - loss: 0.1394 - accuracy: 0.9545 - val_loss: 0.1607 - val_accuracy: 0.9474\n",
      "Epoch 142/200\n",
      "27/27 [==============================] - 0s 2ms/step - loss: 0.1415 - accuracy: 0.9593 - val_loss: 0.1569 - val_accuracy: 0.9474\n",
      "Epoch 143/200\n",
      "27/27 [==============================] - 0s 2ms/step - loss: 0.1283 - accuracy: 0.9605 - val_loss: 0.1590 - val_accuracy: 0.9474\n",
      "Epoch 144/200\n",
      "27/27 [==============================] - 0s 2ms/step - loss: 0.1274 - accuracy: 0.9605 - val_loss: 0.1655 - val_accuracy: 0.9474\n",
      "Epoch 145/200\n",
      "27/27 [==============================] - 0s 2ms/step - loss: 0.1303 - accuracy: 0.9581 - val_loss: 0.1694 - val_accuracy: 0.9474\n",
      "Epoch 146/200\n",
      "27/27 [==============================] - 0s 2ms/step - loss: 0.1346 - accuracy: 0.9605 - val_loss: 0.1687 - val_accuracy: 0.9474\n",
      "Epoch 147/200\n",
      "27/27 [==============================] - 0s 2ms/step - loss: 0.1415 - accuracy: 0.9593 - val_loss: 0.1862 - val_accuracy: 0.9474\n",
      "Epoch 148/200\n",
      "27/27 [==============================] - 0s 2ms/step - loss: 0.1298 - accuracy: 0.9605 - val_loss: 0.1688 - val_accuracy: 0.9474\n",
      "Epoch 149/200\n",
      "27/27 [==============================] - 0s 2ms/step - loss: 0.1308 - accuracy: 0.9605 - val_loss: 0.1655 - val_accuracy: 0.9474\n",
      "Epoch 150/200\n",
      "27/27 [==============================] - 0s 2ms/step - loss: 0.1300 - accuracy: 0.9593 - val_loss: 0.1898 - val_accuracy: 0.9474\n",
      "Epoch 151/200\n",
      "27/27 [==============================] - 0s 2ms/step - loss: 0.1405 - accuracy: 0.9533 - val_loss: 0.1621 - val_accuracy: 0.9474\n",
      "Epoch 152/200\n",
      "27/27 [==============================] - 0s 3ms/step - loss: 0.1434 - accuracy: 0.9569 - val_loss: 0.1780 - val_accuracy: 0.9474\n",
      "Epoch 153/200\n",
      "27/27 [==============================] - 0s 2ms/step - loss: 0.1509 - accuracy: 0.9557 - val_loss: 0.1499 - val_accuracy: 0.9474\n",
      "Epoch 154/200\n",
      "27/27 [==============================] - 0s 2ms/step - loss: 0.1365 - accuracy: 0.9581 - val_loss: 0.1610 - val_accuracy: 0.9474\n",
      "Epoch 155/200\n",
      "27/27 [==============================] - 0s 2ms/step - loss: 0.1270 - accuracy: 0.9605 - val_loss: 0.1560 - val_accuracy: 0.9474\n",
      "Epoch 156/200\n",
      "27/27 [==============================] - 0s 2ms/step - loss: 0.1294 - accuracy: 0.9593 - val_loss: 0.1528 - val_accuracy: 0.9474\n",
      "Epoch 157/200\n",
      "27/27 [==============================] - 0s 2ms/step - loss: 0.1280 - accuracy: 0.9617 - val_loss: 0.1559 - val_accuracy: 0.9474\n",
      "Epoch 158/200\n",
      "27/27 [==============================] - 0s 2ms/step - loss: 0.1275 - accuracy: 0.9605 - val_loss: 0.1571 - val_accuracy: 0.9474\n",
      "Epoch 159/200\n",
      "27/27 [==============================] - 0s 2ms/step - loss: 0.1271 - accuracy: 0.9569 - val_loss: 0.1667 - val_accuracy: 0.9474\n",
      "Epoch 160/200\n",
      "27/27 [==============================] - 0s 2ms/step - loss: 0.1286 - accuracy: 0.9605 - val_loss: 0.1569 - val_accuracy: 0.9474\n",
      "Epoch 161/200\n",
      "27/27 [==============================] - 0s 2ms/step - loss: 0.1320 - accuracy: 0.9605 - val_loss: 0.1632 - val_accuracy: 0.9474\n",
      "Epoch 162/200\n",
      "27/27 [==============================] - 0s 2ms/step - loss: 0.1251 - accuracy: 0.9569 - val_loss: 0.1672 - val_accuracy: 0.9474\n",
      "Epoch 163/200\n",
      "27/27 [==============================] - 0s 2ms/step - loss: 0.1275 - accuracy: 0.9605 - val_loss: 0.1632 - val_accuracy: 0.9474\n",
      "Epoch 164/200\n",
      "27/27 [==============================] - 0s 2ms/step - loss: 0.1248 - accuracy: 0.9617 - val_loss: 0.1576 - val_accuracy: 0.9474\n",
      "Epoch 165/200\n",
      "27/27 [==============================] - 0s 2ms/step - loss: 0.1285 - accuracy: 0.9605 - val_loss: 0.1564 - val_accuracy: 0.9474\n",
      "Epoch 166/200\n",
      "27/27 [==============================] - 0s 2ms/step - loss: 0.1370 - accuracy: 0.9569 - val_loss: 0.1661 - val_accuracy: 0.9474\n",
      "Epoch 167/200\n",
      "27/27 [==============================] - 0s 2ms/step - loss: 0.1303 - accuracy: 0.9605 - val_loss: 0.1630 - val_accuracy: 0.9474\n",
      "Epoch 168/200\n",
      "27/27 [==============================] - 0s 2ms/step - loss: 0.1249 - accuracy: 0.9593 - val_loss: 0.1652 - val_accuracy: 0.9474\n",
      "Epoch 169/200\n",
      "27/27 [==============================] - 0s 2ms/step - loss: 0.1303 - accuracy: 0.9605 - val_loss: 0.1744 - val_accuracy: 0.9474\n",
      "Epoch 170/200\n",
      "27/27 [==============================] - 0s 2ms/step - loss: 0.1316 - accuracy: 0.9617 - val_loss: 0.1651 - val_accuracy: 0.9474\n",
      "Epoch 171/200\n",
      "27/27 [==============================] - 0s 2ms/step - loss: 0.1263 - accuracy: 0.9617 - val_loss: 0.1685 - val_accuracy: 0.9474\n",
      "Epoch 172/200\n",
      "27/27 [==============================] - 0s 3ms/step - loss: 0.1259 - accuracy: 0.9569 - val_loss: 0.1617 - val_accuracy: 0.9474\n",
      "Epoch 173/200\n",
      "27/27 [==============================] - 0s 2ms/step - loss: 0.1292 - accuracy: 0.9593 - val_loss: 0.1632 - val_accuracy: 0.9474\n",
      "Epoch 174/200\n",
      "27/27 [==============================] - 0s 3ms/step - loss: 0.1244 - accuracy: 0.9593 - val_loss: 0.1655 - val_accuracy: 0.9474\n",
      "Epoch 175/200\n",
      "27/27 [==============================] - 0s 2ms/step - loss: 0.1425 - accuracy: 0.9581 - val_loss: 0.1761 - val_accuracy: 0.9474\n",
      "Epoch 176/200\n",
      "27/27 [==============================] - 0s 5ms/step - loss: 0.1258 - accuracy: 0.9581 - val_loss: 0.1591 - val_accuracy: 0.9474\n",
      "Epoch 177/200\n",
      "27/27 [==============================] - 0s 2ms/step - loss: 0.1332 - accuracy: 0.9593 - val_loss: 0.1693 - val_accuracy: 0.9474\n",
      "Epoch 178/200\n",
      "27/27 [==============================] - 0s 2ms/step - loss: 0.1342 - accuracy: 0.9593 - val_loss: 0.1640 - val_accuracy: 0.9474\n",
      "Epoch 179/200\n",
      "27/27 [==============================] - 0s 2ms/step - loss: 0.1271 - accuracy: 0.9629 - val_loss: 0.1617 - val_accuracy: 0.9474\n",
      "Epoch 180/200\n",
      "27/27 [==============================] - 0s 2ms/step - loss: 0.1261 - accuracy: 0.9605 - val_loss: 0.1632 - val_accuracy: 0.9474\n",
      "Epoch 181/200\n",
      "27/27 [==============================] - 0s 2ms/step - loss: 0.1272 - accuracy: 0.9617 - val_loss: 0.1680 - val_accuracy: 0.9474\n",
      "Epoch 182/200\n",
      "27/27 [==============================] - 0s 2ms/step - loss: 0.1256 - accuracy: 0.9605 - val_loss: 0.1670 - val_accuracy: 0.9474\n",
      "Epoch 183/200\n",
      "27/27 [==============================] - 0s 2ms/step - loss: 0.1341 - accuracy: 0.9629 - val_loss: 0.1614 - val_accuracy: 0.9474\n",
      "Epoch 184/200\n",
      "27/27 [==============================] - 0s 2ms/step - loss: 0.1366 - accuracy: 0.9593 - val_loss: 0.2311 - val_accuracy: 0.9426\n",
      "Epoch 185/200\n",
      "27/27 [==============================] - 0s 2ms/step - loss: 0.1326 - accuracy: 0.9617 - val_loss: 0.1791 - val_accuracy: 0.9522\n",
      "Epoch 186/200\n",
      "27/27 [==============================] - 0s 2ms/step - loss: 0.1312 - accuracy: 0.9617 - val_loss: 0.1644 - val_accuracy: 0.9474\n",
      "Epoch 187/200\n",
      "27/27 [==============================] - 0s 3ms/step - loss: 0.1279 - accuracy: 0.9605 - val_loss: 0.1606 - val_accuracy: 0.9474\n",
      "Epoch 188/200\n",
      "27/27 [==============================] - 0s 2ms/step - loss: 0.1353 - accuracy: 0.9605 - val_loss: 0.1628 - val_accuracy: 0.9474\n",
      "Epoch 189/200\n",
      "27/27 [==============================] - 0s 3ms/step - loss: 0.1254 - accuracy: 0.9605 - val_loss: 0.1668 - val_accuracy: 0.9474\n",
      "Epoch 190/200\n",
      "27/27 [==============================] - 0s 3ms/step - loss: 0.1248 - accuracy: 0.9617 - val_loss: 0.1629 - val_accuracy: 0.9474\n",
      "Epoch 191/200\n",
      "27/27 [==============================] - 0s 3ms/step - loss: 0.1229 - accuracy: 0.9593 - val_loss: 0.2117 - val_accuracy: 0.9522\n",
      "Epoch 192/200\n",
      "27/27 [==============================] - 0s 2ms/step - loss: 0.1468 - accuracy: 0.9605 - val_loss: 0.1527 - val_accuracy: 0.9474\n",
      "Epoch 193/200\n",
      "27/27 [==============================] - 0s 2ms/step - loss: 0.1436 - accuracy: 0.9581 - val_loss: 0.1861 - val_accuracy: 0.9474\n",
      "Epoch 194/200\n",
      "27/27 [==============================] - 0s 2ms/step - loss: 0.1381 - accuracy: 0.9581 - val_loss: 0.1812 - val_accuracy: 0.9522\n",
      "Epoch 195/200\n",
      "27/27 [==============================] - 0s 3ms/step - loss: 0.1273 - accuracy: 0.9593 - val_loss: 0.1767 - val_accuracy: 0.9522\n",
      "Epoch 196/200\n",
      "27/27 [==============================] - 0s 3ms/step - loss: 0.1219 - accuracy: 0.9593 - val_loss: 0.1644 - val_accuracy: 0.9474\n",
      "Epoch 197/200\n",
      "27/27 [==============================] - 0s 2ms/step - loss: 0.1226 - accuracy: 0.9605 - val_loss: 0.2077 - val_accuracy: 0.9474\n",
      "Epoch 198/200\n",
      "27/27 [==============================] - 0s 2ms/step - loss: 0.1391 - accuracy: 0.9605 - val_loss: 0.1653 - val_accuracy: 0.9474\n",
      "Epoch 199/200\n",
      "27/27 [==============================] - 0s 4ms/step - loss: 0.1262 - accuracy: 0.9605 - val_loss: 0.1701 - val_accuracy: 0.9474\n",
      "Epoch 200/200\n",
      "27/27 [==============================] - 0s 2ms/step - loss: 0.1366 - accuracy: 0.9593 - val_loss: 0.1818 - val_accuracy: 0.9474\n",
      "9/9 [==============================] - 0s 1ms/step - loss: 0.2194 - accuracy: 0.9504\n",
      "Test Accuracy: 0.9503816962242126\n",
      "9/9 [==============================] - 0s 1ms/step\n"
     ]
    }
   ],
   "source": [
    "import tensorflow as tf\n",
    "from tensorflow.keras.models import Sequential\n",
    "from tensorflow.keras.layers import Dense\n",
    "\n",
    "# Assuming 'X_train' and 'y_train' contain your training features and labels\n",
    "# Define the neural network model\n",
    "model = Sequential()\n",
    "model.add(Dense(64, input_shape=(X_train.shape[1],), activation='relu'))\n",
    "model.add(Dense(32, activation='relu'))\n",
    "model.add(Dense(3, activation='softmax'))  # 5 output neurons for 5 weather types with softmax activation\n",
    "\n",
    "# Compile the model\n",
    "model.compile(optimizer='adam', loss='sparse_categorical_crossentropy', metrics=['accuracy'])\n",
    "\n",
    "# Train the model\n",
    "model.fit(X_train, y_train, epochs=200, batch_size=32, validation_split=0.2)  # Adjust epochs and batch_size\n",
    "\n",
    "# Evaluate the model\n",
    "test_loss, test_acc = model.evaluate(X_test, y_test)\n",
    "print(f\"Test Accuracy: {test_acc}\")\n",
    "y_pred = model.predict(X_test)\n"
   ]
  },
  {
   "cell_type": "markdown",
   "metadata": {},
   "source": [
    "# 2. Build and Compile Model"
   ]
  },
  {
   "cell_type": "code",
   "execution_count": 49,
   "metadata": {},
   "outputs": [],
   "source": [
    "# find out the max index of each row in y_pred\n",
    "y_pred = y_pred.argmax(axis=1)"
   ]
  },
  {
   "cell_type": "code",
   "execution_count": null,
   "metadata": {},
   "outputs": [],
   "source": []
  },
  {
   "cell_type": "code",
   "execution_count": 50,
   "metadata": {},
   "outputs": [
    {
     "data": {
      "text/plain": [
       "0.950381679389313"
      ]
     },
     "execution_count": 50,
     "metadata": {},
     "output_type": "execute_result"
    }
   ],
   "source": [
    "accuracy_score(y_test, y_pred)\n"
   ]
  },
  {
   "cell_type": "markdown",
   "metadata": {},
   "source": [
    "# 3. Fit, Predict and Evaluate"
   ]
  },
  {
   "cell_type": "code",
   "execution_count": 53,
   "metadata": {},
   "outputs": [
    {
     "data": {
      "image/png": "[encoded data removed]",
      "text/plain": [
       "<Figure size 800x600 with 1 Axes>"
      ]
     },
     "metadata": {},
     "output_type": "display_data"
    },
    {
     "data": {
      "image/png": "[encoded data removed]",
      "text/plain": [
       "<Figure size 800x600 with 1 Axes>"
      ]
     },
     "metadata": {},
     "output_type": "display_data"
    }
   ],
   "source": [
    "import matplotlib.pyplot as plt\n",
    "\n",
    "# Replace these with the actual labels used in your dataset\n",
    "weather_labels = {0: 'Rain', 1:  'Sun', 2: 'Snow'}\n",
    "\n",
    "# Convert numeric predictions back to categorical labels\n",
    "y_pred_labels = [weather_labels[pred] for pred in y_pred]\n",
    "\n",
    "# Count occurrences of each weather type\n",
    "count = {label: y_pred_labels.count(label) for label in weather_labels.values()}\n",
    "\n",
    "# Create a bar plot to visualize the count of each weather type in y_pred\n",
    "plt.figure(figsize=(8, 6))\n",
    "plt.bar(count.keys(), count.values())\n",
    "plt.xlabel('Weather')\n",
    "plt.ylabel('Count')\n",
    "plt.title('Count of Weather Types in Predicted Values')\n",
    "plt.show()\n",
    "\n",
    "\n",
    "\n",
    "# Replace these with the actual labels used in your dataset\n",
    "\n",
    "\n",
    "# Convert numeric predictions back to categorical labels\n",
    "y_test_labels = [weather_labels[test] for test in y_test]\n",
    "\n",
    "# Count occurrences of each weather type\n",
    "count = {label: y_test_labels.count(label) for label in weather_labels.values()}\n",
    "\n",
    "# Create a bar plot to visualize the count of each weather type in y_pred\n",
    "plt.figure(figsize=(8, 6))\n",
    "plt.bar(count.keys(), count.values())\n",
    "plt.xlabel('Weather')\n",
    "plt.ylabel('Count')\n",
    "plt.title('Count of Weather Types in test Values')\n",
    "plt.show()\n",
    "\n"
   ]
  },
  {
   "cell_type": "code",
   "execution_count": 54,
   "metadata": {},
   "outputs": [
    {
     "name": "stdout",
     "output_type": "stream",
     "text": [
      "Logistic Regression Accuracy: 0.8320610687022901\n"
     ]
    }
   ],
   "source": [
    "\n",
    "from sklearn.linear_model import LogisticRegression\n",
    "from sklearn.model_selection import train_test_split\n",
    "from sklearn.preprocessing import StandardScaler\n",
    "from sklearn.metrics import accuracy_score\n",
    "\n",
    "# Standardize features by removing the mean and scaling to unit variance\n",
    "scaler = StandardScaler()\n",
    "X_train2 = scaler.fit_transform(X_train)\n",
    "X_test2 = scaler.transform(X_test)\n",
    "\n",
    "# Create Logistic Regression classifier\n",
    "logreg = LogisticRegression(max_iter=1000)  # You can adjust parameters like max_iter\n",
    "logreg.fit(X_train2, y_train)\n",
    "\n",
    "# Predict on the test set\n",
    "y_pred = logreg.predict(X_test2)\n",
    "\n",
    "# Calculate accuracy\n",
    "accuracy = accuracy_score(y_test, y_pred)\n",
    "print(f\"Logistic Regression Accuracy: {accuracy}\")"
   ]
  },
  {
   "cell_type": "code",
   "execution_count": 55,
   "metadata": {
    "scrolled": true
   },
   "outputs": [
    {
     "data": {
      "image/png": "[encoded data removed]",
      "text/plain": [
       "<Figure size 800x600 with 1 Axes>"
      ]
     },
     "metadata": {},
     "output_type": "display_data"
    },
    {
     "data": {
      "image/png": "[encoded data removed]",
      "text/plain": [
       "<Figure size 800x600 with 1 Axes>"
      ]
     },
     "metadata": {},
     "output_type": "display_data"
    }
   ],
   "source": [
    "import matplotlib.pyplot as plt\n",
    "\n",
    "# Replace these with the actual labels used in your dataset\n",
    "weather_labels = {0: 'Rain', 1:  'Sun', 2: 'Snow'}\n",
    "\n",
    "# Convert numeric predictions back to categorical labels\n",
    "y_pred_labels = [weather_labels[pred] for pred in y_pred]\n",
    "\n",
    "# Count occurrences of each weather type\n",
    "count = {label: y_pred_labels.count(label) for label in weather_labels.values()}\n",
    "\n",
    "# Create a bar plot to visualize the count of each weather type in y_pred\n",
    "plt.figure(figsize=(8, 6))\n",
    "plt.bar(count.keys(), count.values())\n",
    "plt.xlabel('Weather')\n",
    "plt.ylabel('Count')\n",
    "plt.title('Count of Weather Types in Predicted Values')\n",
    "plt.show()\n",
    "\n",
    "\n",
    "\n",
    "# Replace these with the actual labels used in your dataset\n",
    "\n",
    "\n",
    "# Convert numeric predictions back to categorical labels\n",
    "y_test_labels = [weather_labels[test] for test in y_test]\n",
    "\n",
    "# Count occurrences of each weather type\n",
    "count = {label: y_test_labels.count(label) for label in weather_labels.values()}\n",
    "\n",
    "# Create a bar plot to visualize the count of each weather type in y_pred\n",
    "plt.figure(figsize=(8, 6))\n",
    "plt.bar(count.keys(), count.values())\n",
    "plt.xlabel('Weather')\n",
    "plt.ylabel('Count')\n",
    "plt.title('Count of Weather Types in Predicted Values')\n",
    "plt.show()\n",
    "\n",
    "\n",
    "\n"
   ]
  },
  {
   "cell_type": "code",
   "execution_count": 122,
   "metadata": {},
   "outputs": [
    {
     "data": {
      "text/plain": [
       "0       3\n",
       "1       0\n",
       "2       0\n",
       "3       0\n",
       "4       0\n",
       "       ..\n",
       "1456    0\n",
       "1457    0\n",
       "1458    1\n",
       "1459    2\n",
       "1460    2\n",
       "Name: weather, Length: 1461, dtype: int64"
      ]
     },
     "execution_count": 122,
     "metadata": {},
     "output_type": "execute_result"
    }
   ],
   "source": [
    "\n",
    "y"
   ]
  },
  {
   "cell_type": "code",
   "execution_count": 118,
   "metadata": {},
   "outputs": [],
   "source": []
  },
  {
   "cell_type": "code",
   "execution_count": 119,
   "metadata": {
    "scrolled": true
   },
   "outputs": [
    {
     "data": {
      "text/plain": [
       "0.8054607508532423"
      ]
     },
     "execution_count": 119,
     "metadata": {},
     "output_type": "execute_result"
    }
   ],
   "source": []
  },
  {
   "cell_type": "code",
   "execution_count": null,
   "metadata": {},
   "outputs": [],
   "source": []
  },
  {
   "cell_type": "code",
   "execution_count": 393,
   "metadata": {},
   "outputs": [],
   "source": [
    "\n",
    "\n"
   ]
  },
  {
   "cell_type": "code",
   "execution_count": 92,
   "metadata": {},
   "outputs": [
    {
     "ename": "ValueError",
     "evalue": "The number of FixedLocator locations (5), usually from a call to set_ticks, does not match the number of labels (2).",
     "output_type": "error",
     "traceback": [
      "\u001b[1;31m---------------------------------------------------------------------------\u001b[0m",
      "\u001b[1;31mValueError\u001b[0m                                Traceback (most recent call last)",
      "\u001b[1;32mc:\\Users\\hp\\Desktop\\ML\\weather-prediction\\model1.ipynb Cell 34\u001b[0m line \u001b[0;36m3\n\u001b[0;32m      <a href='vscode-notebook-cell:/c%3A/Users/hp/Desktop/ML/weather-prediction/model1.ipynb#X44sZmlsZQ%3D%3D?line=0'>1</a>\u001b[0m cm_nn \u001b[39m=\u001b[39m confusion_matrix(y_test, y_pred)\n\u001b[0;32m      <a href='vscode-notebook-cell:/c%3A/Users/hp/Desktop/ML/weather-prediction/model1.ipynb#X44sZmlsZQ%3D%3D?line=1'>2</a>\u001b[0m disp_nn \u001b[39m=\u001b[39m ConfusionMatrixDisplay(confusion_matrix\u001b[39m=\u001b[39mcm_nn, display_labels\u001b[39m=\u001b[39m[\u001b[39m'\u001b[39m\u001b[39mNo Recidivism\u001b[39m\u001b[39m'\u001b[39m, \u001b[39m'\u001b[39m\u001b[39mRecidivism\u001b[39m\u001b[39m'\u001b[39m])\n\u001b[1;32m----> <a href='vscode-notebook-cell:/c%3A/Users/hp/Desktop/ML/weather-prediction/model1.ipynb#X44sZmlsZQ%3D%3D?line=2'>3</a>\u001b[0m disp_nn\u001b[39m.\u001b[39mplot(cmap\u001b[39m=\u001b[39m\u001b[39m'\u001b[39m\u001b[39mBlues\u001b[39m\u001b[39m'\u001b[39m, values_format\u001b[39m=\u001b[39m\u001b[39m'\u001b[39m\u001b[39md\u001b[39m\u001b[39m'\u001b[39m)\n\u001b[0;32m      <a href='vscode-notebook-cell:/c%3A/Users/hp/Desktop/ML/weather-prediction/model1.ipynb#X44sZmlsZQ%3D%3D?line=3'>4</a>\u001b[0m plt\u001b[39m.\u001b[39mtitle(\u001b[39m'\u001b[39m\u001b[39mConfusion Matrix - logistic regresssion\u001b[39m\u001b[39m'\u001b[39m)\n\u001b[0;32m      <a href='vscode-notebook-cell:/c%3A/Users/hp/Desktop/ML/weather-prediction/model1.ipynb#X44sZmlsZQ%3D%3D?line=4'>5</a>\u001b[0m plt\u001b[39m.\u001b[39mshow()\n",
      "File \u001b[1;32mc:\\ProgramData\\anaconda3\\Lib\\site-packages\\sklearn\\metrics\\_plot\\confusion_matrix.py:181\u001b[0m, in \u001b[0;36mConfusionMatrixDisplay.plot\u001b[1;34m(self, include_values, cmap, xticks_rotation, values_format, ax, colorbar, im_kw, text_kw)\u001b[0m\n\u001b[0;32m    179\u001b[0m \u001b[39mif\u001b[39;00m colorbar:\n\u001b[0;32m    180\u001b[0m     fig\u001b[39m.\u001b[39mcolorbar(\u001b[39mself\u001b[39m\u001b[39m.\u001b[39mim_, ax\u001b[39m=\u001b[39max)\n\u001b[1;32m--> 181\u001b[0m ax\u001b[39m.\u001b[39mset(\n\u001b[0;32m    182\u001b[0m     xticks\u001b[39m=\u001b[39mnp\u001b[39m.\u001b[39marange(n_classes),\n\u001b[0;32m    183\u001b[0m     yticks\u001b[39m=\u001b[39mnp\u001b[39m.\u001b[39marange(n_classes),\n\u001b[0;32m    184\u001b[0m     xticklabels\u001b[39m=\u001b[39mdisplay_labels,\n\u001b[0;32m    185\u001b[0m     yticklabels\u001b[39m=\u001b[39mdisplay_labels,\n\u001b[0;32m    186\u001b[0m     ylabel\u001b[39m=\u001b[39m\u001b[39m\"\u001b[39m\u001b[39mTrue label\u001b[39m\u001b[39m\"\u001b[39m,\n\u001b[0;32m    187\u001b[0m     xlabel\u001b[39m=\u001b[39m\u001b[39m\"\u001b[39m\u001b[39mPredicted label\u001b[39m\u001b[39m\"\u001b[39m,\n\u001b[0;32m    188\u001b[0m )\n\u001b[0;32m    190\u001b[0m ax\u001b[39m.\u001b[39mset_ylim((n_classes \u001b[39m-\u001b[39m \u001b[39m0.5\u001b[39m, \u001b[39m-\u001b[39m\u001b[39m0.5\u001b[39m))\n\u001b[0;32m    191\u001b[0m plt\u001b[39m.\u001b[39msetp(ax\u001b[39m.\u001b[39mget_xticklabels(), rotation\u001b[39m=\u001b[39mxticks_rotation)\n",
      "File \u001b[1;32mc:\\ProgramData\\anaconda3\\Lib\\site-packages\\matplotlib\\artist.py:147\u001b[0m, in \u001b[0;36mArtist.__init_subclass__.<locals>.<lambda>\u001b[1;34m(self, **kwargs)\u001b[0m\n\u001b[0;32m    139\u001b[0m \u001b[39mif\u001b[39;00m \u001b[39mnot\u001b[39;00m \u001b[39mhasattr\u001b[39m(\u001b[39mcls\u001b[39m\u001b[39m.\u001b[39mset, \u001b[39m'\u001b[39m\u001b[39m_autogenerated_signature\u001b[39m\u001b[39m'\u001b[39m):\n\u001b[0;32m    140\u001b[0m     \u001b[39m# Don't overwrite cls.set if the subclass or one of its parents\u001b[39;00m\n\u001b[0;32m    141\u001b[0m     \u001b[39m# has defined a set method set itself.\u001b[39;00m\n\u001b[0;32m    142\u001b[0m     \u001b[39m# If there was no explicit definition, cls.set is inherited from\u001b[39;00m\n\u001b[0;32m    143\u001b[0m     \u001b[39m# the hierarchy of auto-generated set methods, which hold the\u001b[39;00m\n\u001b[0;32m    144\u001b[0m     \u001b[39m# flag _autogenerated_signature.\u001b[39;00m\n\u001b[0;32m    145\u001b[0m     \u001b[39mreturn\u001b[39;00m\n\u001b[1;32m--> 147\u001b[0m \u001b[39mcls\u001b[39m\u001b[39m.\u001b[39mset \u001b[39m=\u001b[39m \u001b[39mlambda\u001b[39;00m \u001b[39mself\u001b[39m, \u001b[39m*\u001b[39m\u001b[39m*\u001b[39mkwargs: Artist\u001b[39m.\u001b[39mset(\u001b[39mself\u001b[39m, \u001b[39m*\u001b[39m\u001b[39m*\u001b[39mkwargs)\n\u001b[0;32m    148\u001b[0m \u001b[39mcls\u001b[39m\u001b[39m.\u001b[39mset\u001b[39m.\u001b[39m\u001b[39m__name__\u001b[39m \u001b[39m=\u001b[39m \u001b[39m\"\u001b[39m\u001b[39mset\u001b[39m\u001b[39m\"\u001b[39m\n\u001b[0;32m    149\u001b[0m \u001b[39mcls\u001b[39m\u001b[39m.\u001b[39mset\u001b[39m.\u001b[39m\u001b[39m__qualname__\u001b[39m \u001b[39m=\u001b[39m \u001b[39mf\u001b[39m\u001b[39m\"\u001b[39m\u001b[39m{\u001b[39;00m\u001b[39mcls\u001b[39m\u001b[39m.\u001b[39m\u001b[39m__qualname__\u001b[39m\u001b[39m}\u001b[39;00m\u001b[39m.set\u001b[39m\u001b[39m\"\u001b[39m\n",
      "File \u001b[1;32mc:\\ProgramData\\anaconda3\\Lib\\site-packages\\matplotlib\\artist.py:1231\u001b[0m, in \u001b[0;36mArtist.set\u001b[1;34m(self, **kwargs)\u001b[0m\n\u001b[0;32m   1227\u001b[0m \u001b[39mdef\u001b[39;00m \u001b[39mset\u001b[39m(\u001b[39mself\u001b[39m, \u001b[39m*\u001b[39m\u001b[39m*\u001b[39mkwargs):\n\u001b[0;32m   1228\u001b[0m     \u001b[39m# docstring and signature are auto-generated via\u001b[39;00m\n\u001b[0;32m   1229\u001b[0m     \u001b[39m# Artist._update_set_signature_and_docstring() at the end of the\u001b[39;00m\n\u001b[0;32m   1230\u001b[0m     \u001b[39m# module.\u001b[39;00m\n\u001b[1;32m-> 1231\u001b[0m     \u001b[39mreturn\u001b[39;00m \u001b[39mself\u001b[39m\u001b[39m.\u001b[39m_internal_update(cbook\u001b[39m.\u001b[39mnormalize_kwargs(kwargs, \u001b[39mself\u001b[39m))\n",
      "File \u001b[1;32mc:\\ProgramData\\anaconda3\\Lib\\site-packages\\matplotlib\\artist.py:1223\u001b[0m, in \u001b[0;36mArtist._internal_update\u001b[1;34m(self, kwargs)\u001b[0m\n\u001b[0;32m   1216\u001b[0m \u001b[39mdef\u001b[39;00m \u001b[39m_internal_update\u001b[39m(\u001b[39mself\u001b[39m, kwargs):\n\u001b[0;32m   1217\u001b[0m \u001b[39m    \u001b[39m\u001b[39m\"\"\"\u001b[39;00m\n\u001b[0;32m   1218\u001b[0m \u001b[39m    Update artist properties without prenormalizing them, but generating\u001b[39;00m\n\u001b[0;32m   1219\u001b[0m \u001b[39m    errors as if calling `set`.\u001b[39;00m\n\u001b[0;32m   1220\u001b[0m \n\u001b[0;32m   1221\u001b[0m \u001b[39m    The lack of prenormalization is to maintain backcompatibility.\u001b[39;00m\n\u001b[0;32m   1222\u001b[0m \u001b[39m    \"\"\"\u001b[39;00m\n\u001b[1;32m-> 1223\u001b[0m     \u001b[39mreturn\u001b[39;00m \u001b[39mself\u001b[39m\u001b[39m.\u001b[39m_update_props(\n\u001b[0;32m   1224\u001b[0m         kwargs, \u001b[39m\"\u001b[39m\u001b[39m{cls.__name__}\u001b[39;00m\u001b[39m.set() got an unexpected keyword argument \u001b[39m\u001b[39m\"\u001b[39m\n\u001b[0;32m   1225\u001b[0m         \u001b[39m\"\u001b[39m\u001b[39m{prop_name!r}\u001b[39;00m\u001b[39m\"\u001b[39m)\n",
      "File \u001b[1;32mc:\\ProgramData\\anaconda3\\Lib\\site-packages\\matplotlib\\artist.py:1199\u001b[0m, in \u001b[0;36mArtist._update_props\u001b[1;34m(self, props, errfmt)\u001b[0m\n\u001b[0;32m   1196\u001b[0m             \u001b[39mif\u001b[39;00m \u001b[39mnot\u001b[39;00m \u001b[39mcallable\u001b[39m(func):\n\u001b[0;32m   1197\u001b[0m                 \u001b[39mraise\u001b[39;00m \u001b[39mAttributeError\u001b[39;00m(\n\u001b[0;32m   1198\u001b[0m                     errfmt\u001b[39m.\u001b[39mformat(\u001b[39mcls\u001b[39m\u001b[39m=\u001b[39m\u001b[39mtype\u001b[39m(\u001b[39mself\u001b[39m), prop_name\u001b[39m=\u001b[39mk))\n\u001b[1;32m-> 1199\u001b[0m             ret\u001b[39m.\u001b[39mappend(func(v))\n\u001b[0;32m   1200\u001b[0m \u001b[39mif\u001b[39;00m ret:\n\u001b[0;32m   1201\u001b[0m     \u001b[39mself\u001b[39m\u001b[39m.\u001b[39mpchanged()\n",
      "File \u001b[1;32mc:\\ProgramData\\anaconda3\\Lib\\site-packages\\matplotlib\\axes\\_base.py:74\u001b[0m, in \u001b[0;36m_axis_method_wrapper.__set_name__.<locals>.wrapper\u001b[1;34m(self, *args, **kwargs)\u001b[0m\n\u001b[0;32m     73\u001b[0m \u001b[39mdef\u001b[39;00m \u001b[39mwrapper\u001b[39m(\u001b[39mself\u001b[39m, \u001b[39m*\u001b[39margs, \u001b[39m*\u001b[39m\u001b[39m*\u001b[39mkwargs):\n\u001b[1;32m---> 74\u001b[0m     \u001b[39mreturn\u001b[39;00m get_method(\u001b[39mself\u001b[39m)(\u001b[39m*\u001b[39margs, \u001b[39m*\u001b[39m\u001b[39m*\u001b[39mkwargs)\n",
      "File \u001b[1;32mc:\\ProgramData\\anaconda3\\Lib\\site-packages\\matplotlib\\_api\\deprecation.py:297\u001b[0m, in \u001b[0;36mrename_parameter.<locals>.wrapper\u001b[1;34m(*args, **kwargs)\u001b[0m\n\u001b[0;32m    292\u001b[0m     warn_deprecated(\n\u001b[0;32m    293\u001b[0m         since, message\u001b[39m=\u001b[39m\u001b[39mf\u001b[39m\u001b[39m\"\u001b[39m\u001b[39mThe \u001b[39m\u001b[39m{\u001b[39;00mold\u001b[39m!r}\u001b[39;00m\u001b[39m parameter of \u001b[39m\u001b[39m{\u001b[39;00mfunc\u001b[39m.\u001b[39m\u001b[39m__name__\u001b[39m\u001b[39m}\u001b[39;00m\u001b[39m() \u001b[39m\u001b[39m\"\u001b[39m\n\u001b[0;32m    294\u001b[0m         \u001b[39mf\u001b[39m\u001b[39m\"\u001b[39m\u001b[39mhas been renamed \u001b[39m\u001b[39m{\u001b[39;00mnew\u001b[39m!r}\u001b[39;00m\u001b[39m since Matplotlib \u001b[39m\u001b[39m{\u001b[39;00msince\u001b[39m}\u001b[39;00m\u001b[39m; support \u001b[39m\u001b[39m\"\u001b[39m\n\u001b[0;32m    295\u001b[0m         \u001b[39mf\u001b[39m\u001b[39m\"\u001b[39m\u001b[39mfor the old name will be dropped %(removal)s.\u001b[39m\u001b[39m\"\u001b[39m)\n\u001b[0;32m    296\u001b[0m     kwargs[new] \u001b[39m=\u001b[39m kwargs\u001b[39m.\u001b[39mpop(old)\n\u001b[1;32m--> 297\u001b[0m \u001b[39mreturn\u001b[39;00m func(\u001b[39m*\u001b[39margs, \u001b[39m*\u001b[39m\u001b[39m*\u001b[39mkwargs)\n",
      "File \u001b[1;32mc:\\ProgramData\\anaconda3\\Lib\\site-packages\\matplotlib\\axis.py:1969\u001b[0m, in \u001b[0;36mAxis.set_ticklabels\u001b[1;34m(self, labels, minor, fontdict, **kwargs)\u001b[0m\n\u001b[0;32m   1965\u001b[0m \u001b[39mif\u001b[39;00m \u001b[39misinstance\u001b[39m(locator, mticker\u001b[39m.\u001b[39mFixedLocator):\n\u001b[0;32m   1966\u001b[0m     \u001b[39m# Passing [] as a list of labels is often used as a way to\u001b[39;00m\n\u001b[0;32m   1967\u001b[0m     \u001b[39m# remove all tick labels, so only error for > 0 labels\u001b[39;00m\n\u001b[0;32m   1968\u001b[0m     \u001b[39mif\u001b[39;00m \u001b[39mlen\u001b[39m(locator\u001b[39m.\u001b[39mlocs) \u001b[39m!=\u001b[39m \u001b[39mlen\u001b[39m(labels) \u001b[39mand\u001b[39;00m \u001b[39mlen\u001b[39m(labels) \u001b[39m!=\u001b[39m \u001b[39m0\u001b[39m:\n\u001b[1;32m-> 1969\u001b[0m         \u001b[39mraise\u001b[39;00m \u001b[39mValueError\u001b[39;00m(\n\u001b[0;32m   1970\u001b[0m             \u001b[39m\"\u001b[39m\u001b[39mThe number of FixedLocator locations\u001b[39m\u001b[39m\"\u001b[39m\n\u001b[0;32m   1971\u001b[0m             \u001b[39mf\u001b[39m\u001b[39m\"\u001b[39m\u001b[39m (\u001b[39m\u001b[39m{\u001b[39;00m\u001b[39mlen\u001b[39m(locator\u001b[39m.\u001b[39mlocs)\u001b[39m}\u001b[39;00m\u001b[39m), usually from a call to\u001b[39m\u001b[39m\"\u001b[39m\n\u001b[0;32m   1972\u001b[0m             \u001b[39m\"\u001b[39m\u001b[39m set_ticks, does not match\u001b[39m\u001b[39m\"\u001b[39m\n\u001b[0;32m   1973\u001b[0m             \u001b[39mf\u001b[39m\u001b[39m\"\u001b[39m\u001b[39m the number of labels (\u001b[39m\u001b[39m{\u001b[39;00m\u001b[39mlen\u001b[39m(labels)\u001b[39m}\u001b[39;00m\u001b[39m).\u001b[39m\u001b[39m\"\u001b[39m)\n\u001b[0;32m   1974\u001b[0m     tickd \u001b[39m=\u001b[39m {loc: lab \u001b[39mfor\u001b[39;00m loc, lab \u001b[39min\u001b[39;00m \u001b[39mzip\u001b[39m(locator\u001b[39m.\u001b[39mlocs, labels)}\n\u001b[0;32m   1975\u001b[0m     func \u001b[39m=\u001b[39m functools\u001b[39m.\u001b[39mpartial(\u001b[39mself\u001b[39m\u001b[39m.\u001b[39m_format_with_dict, tickd)\n",
      "\u001b[1;31mValueError\u001b[0m: The number of FixedLocator locations (5), usually from a call to set_ticks, does not match the number of labels (2)."
     ]
    },
    {
     "data": {
      "image/png": "[encoded data removed]",
      "text/plain": [
       "<Figure size 640x480 with 2 Axes>"
      ]
     },
     "metadata": {},
     "output_type": "display_data"
    }
   ],
   "source": []
  },
  {
   "cell_type": "code",
   "execution_count": 402,
   "metadata": {},
   "outputs": [],
   "source": [
    "b=accuracy_score(y_test, y_predlr)\n"
   ]
  },
  {
   "cell_type": "code",
   "execution_count": null,
   "metadata": {},
   "outputs": [
    {
     "ename": "",
     "evalue": "",
     "output_type": "error",
     "traceback": [
      "\u001b[1;31mRunning cells with 'weather_prediction' requires the ipykernel package.\n",
      "\u001b[1;31mRun the following command to install 'ipykernel' into the Python environment. \n",
      "\u001b[1;31mCommand: 'c:/Users/hp/Desktop/ML/weather_prediction/weather_prediction/Scripts/python.exe -m pip install ipykernel -U --force-reinstall'"
     ]
    }
   ],
   "source": [
    "from sklearn.ensemble import RandomForestClassifier\n",
    "rf = RandomForestClassifier()\n",
    "rf.fit(X_train, y_train)\n",
    "\n",
    "\n"
   ]
  },
  {
   "cell_type": "code",
   "execution_count": 397,
   "metadata": {},
   "outputs": [
    {
     "data": {
      "image/png": "[encoded data removed]",
      "text/plain": [
       "<Figure size 640x480 with 2 Axes>"
      ]
     },
     "metadata": {},
     "output_type": "display_data"
    }
   ],
   "source": [
    "y_pred = rf.predict(X_test)\n",
    "\n",
    "# Generating the confusion matrix\n",
    "cm_nn = confusion_matrix(y_test, y_pred)\n",
    "disp_nn = ConfusionMatrixDisplay(confusion_matrix=cm_nn, display_labels=['No Recidivism', 'Recidivism'])\n",
    "disp_nn.plot(cmap='Blues', values_format='d')\n",
    "plt.title('Confusion Matrix - randomforest')\n",
    "plt.show()"
   ]
  },
  {
   "cell_type": "code",
   "execution_count": 407,
   "metadata": {},
   "outputs": [],
   "source": [
    "c=accuracy_score(y_test, y_pred)"
   ]
  },
  {
   "cell_type": "code",
   "execution_count": 408,
   "metadata": {},
   "outputs": [
    {
     "data": {
      "text/plain": [
       "0.6639676113360324"
      ]
     },
     "execution_count": 408,
     "metadata": {},
     "output_type": "execute_result"
    }
   ],
   "source": []
  },
  {
   "cell_type": "code",
   "execution_count": 410,
   "metadata": {},
   "outputs": [],
   "source": [
    "model_names = ['Sequential', 'Logistic Regression', 'randomforest']\n",
    "\n",
    "\n",
    "accuracy_values = [a, b, c] "
   ]
  },
  {
   "cell_type": "code",
   "execution_count": 411,
   "metadata": {},
   "outputs": [
    {
     "data": {
      "text/plain": [
       "[0.6639676113360324, 0.6607287449392713, 0.637246963562753]"
      ]
     },
     "execution_count": 411,
     "metadata": {},
     "output_type": "execute_result"
    }
   ],
   "source": [
    "accuracy_values"
   ]
  },
  {
   "cell_type": "code",
   "execution_count": 414,
   "metadata": {},
   "outputs": [
    {
     "data": {
      "image/png": "[encoded data removed]",
      "text/plain": [
       "<Figure size 640x480 with 1 Axes>"
      ]
     },
     "metadata": {},
     "output_type": "display_data"
    }
   ],
   "source": [
    "plt.bar(model_names, accuracy_values, color ='skyblue', \n",
    "        width = 0.4)\n",
    " \n",
    "plt.xlabel(\"Models\")\n",
    "plt.ylabel(\"Accuracy\")\n",
    "plt.title(\"Accuracy of Different Models\")\n",
    "plt.show()"
   ]
  },
  {
   "cell_type": "code",
   "execution_count": null,
   "metadata": {},
   "outputs": [],
   "source": []
  },
  {
   "cell_type": "code",
   "execution_count": 6,
   "metadata": {},
   "outputs": [
    {
     "name": "stdout",
     "output_type": "stream",
     "text": [
      "Note: you may need to restart the kernel to use updated packages.Defaulting to user installation because normal site-packages is not writeable\n",
      "\n"
     ]
    },
    {
     "name": "stderr",
     "output_type": "stream",
     "text": [
      "WARNING: Ignoring invalid distribution -rotobuf (c:\\users\\hp\\appdata\\roaming\\python\\python310\\site-packages)\n",
      "WARNING: Ignoring invalid distribution -rotobuf (c:\\users\\hp\\appdata\\roaming\\python\\python310\\site-packages)\n",
      "ERROR: Could not find a version that satisfies the requirement tensorflow==2.2.1 (from versions: 2.8.0rc1, 2.8.0, 2.8.1, 2.8.2, 2.8.3, 2.8.4, 2.9.0rc0, 2.9.0rc1, 2.9.0rc2, 2.9.0, 2.9.1, 2.9.2, 2.9.3, 2.10.0rc0, 2.10.0rc1, 2.10.0rc2, 2.10.0rc3, 2.10.0, 2.10.1, 2.11.0rc0, 2.11.0rc1, 2.11.0rc2, 2.11.0, 2.11.1, 2.12.0rc0, 2.12.0rc1, 2.12.0, 2.12.1, 2.13.0rc0, 2.13.0rc1, 2.13.0rc2, 2.13.0, 2.13.1, 2.14.0rc0, 2.14.0rc1, 2.14.0, 2.14.1, 2.15.0rc0, 2.15.0rc1, 2.15.0)\n",
      "ERROR: No matching distribution found for tensorflow==2.2.1\n",
      "WARNING: Ignoring invalid distribution -rotobuf (c:\\users\\hp\\appdata\\roaming\\python\\python310\\site-packages)\n"
     ]
    }
   ],
   "source": [
    "pip install tensorflow==2.2.1 "
   ]
  },
  {
   "cell_type": "code",
   "execution_count": null,
   "metadata": {},
   "outputs": [],
   "source": [
    "pip install tensorflowjs"
   ]
  },
  {
   "cell_type": "code",
   "execution_count": null,
   "metadata": {},
   "outputs": [],
   "source": [
    "from tensorflowjs import tfjs"
   ]
  },
  {
   "cell_type": "markdown",
   "metadata": {},
   "source": [
    "# 4. Saving and Reloading"
   ]
  },
  {
   "cell_type": "code",
   "execution_count": null,
   "metadata": {},
   "outputs": [],
   "source": [
    "model.save('tfmodel')"
   ]
  },
  {
   "cell_type": "code",
   "execution_count": 213,
   "metadata": {},
   "outputs": [],
   "source": [
    "del model "
   ]
  },
  {
   "cell_type": "code",
   "execution_count": 142,
   "metadata": {},
   "outputs": [],
   "source": [
    "model = load_model('tfmodel')"
   ]
  },
  {
   "cell_type": "code",
   "execution_count": null,
   "metadata": {},
   "outputs": [],
   "source": []
  },
  {
   "cell_type": "code",
   "execution_count": null,
   "metadata": {},
   "outputs": [],
   "source": []
  }
 ],
 "metadata": {
  "kernelspec": {
   "display_name": "base",
   "language": "python",
   "name": "python3"
  },
  "language_info": {
   "codemirror_mode": {
    "name": "ipython",
    "version": 3
   },
   "file_extension": ".py",
   "mimetype": "text/x-python",
   "name": "python",
   "nbconvert_exporter": "python",
   "pygments_lexer": "ipython3",
   "version": "3.10.5"
  }
 },
 "nbformat": 4,
 "nbformat_minor": 4
}
